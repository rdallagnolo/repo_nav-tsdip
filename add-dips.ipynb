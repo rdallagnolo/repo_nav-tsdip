{
 "cells": [
  {
   "cell_type": "markdown",
   "id": "82b73c39-a55b-48d5-9512-b89fd569120d",
   "metadata": {},
   "source": [
    "#### copy tsdip data files to page folder"
   ]
  },
  {
   "cell_type": "code",
   "execution_count": 81,
   "id": "d5c97cfe-f001-4cb7-b16d-1de4a1e075d6",
   "metadata": {},
   "outputs": [],
   "source": [
    "os.chdir(src)"
   ]
  },
  {
   "cell_type": "code",
   "execution_count": 82,
   "id": "b403b371-c0fc-4635-a4eb-3b804a16ed24",
   "metadata": {},
   "outputs": [
    {
     "data": {
      "text/plain": [
       "'/home/rod/Documents/DataScience/my_projects/nav/tsdip/data'"
      ]
     },
     "execution_count": 82,
     "metadata": {},
     "output_type": "execute_result"
    }
   ],
   "source": [
    "pwd"
   ]
  },
  {
   "cell_type": "code",
   "execution_count": 185,
   "id": "64e21cea-a895-4d43-bfdd-fea92c57e0e7",
   "metadata": {},
   "outputs": [],
   "source": [
    "data_files = os.listdir(src)\n",
    "page_files = os.listdir(trg)"
   ]
  },
  {
   "cell_type": "code",
   "execution_count": 186,
   "id": "d157ea2a-3971-4b76-b50f-53b1bfe66dea",
   "metadata": {},
   "outputs": [
    {
     "name": "stdout",
     "output_type": "stream",
     "text": [
      "new dip available\n"
     ]
    }
   ],
   "source": [
    "if len(data_files) > len(page_files):\n",
    "    print(\"new dip available\")\n",
    "else:\n",
    "    print(\"nothing new to plot\")"
   ]
  },
  {
   "cell_type": "code",
   "execution_count": 187,
   "id": "9595a1fa-fbac-4a7b-80df-a730233a3435",
   "metadata": {},
   "outputs": [
    {
     "data": {
      "text/plain": [
       "6"
      ]
     },
     "execution_count": 187,
     "metadata": {},
     "output_type": "execute_result"
    }
   ],
   "source": [
    "len(data_files)"
   ]
  },
  {
   "cell_type": "code",
   "execution_count": 188,
   "id": "c7af3a95-1f23-47b3-9dbe-2487a2e2a916",
   "metadata": {},
   "outputs": [],
   "source": [
    "from pathlib import Path\n",
    "import shutil\n",
    "import os\n",
    "\n",
    "# defining source and destination\n",
    "# paths\n",
    "src = '/home/rod/Documents/DataScience/my_projects/nav/tsdip/data/'\n",
    "trg = '/home/rod/Documents/DataScience/my_projects/nav/tsdip/pages/'\n",
    "\n",
    "files=os.listdir(src)                           # listing all files in the src directory\n",
    "pages=os.listdir(trg)                           # listing all files in the trg directory\n",
    "\n",
    "# renaming itens in files list so we can compare against \n",
    "files_pythonic = []\n",
    "for i in files:\n",
    "    files_pythonic.append(i[0:7] + '.py')\n",
    "\n",
    "new_dips = list(set(files_pythonic) - set(pages))\n",
    "new_dips_text = []\n",
    "for i in new_dips:\n",
    "    new_dips_text.append(i[0:7] + '.txt')\n",
    "\n",
    "# iterating over all the files in\n",
    "# the source directory\n",
    "for fname in new_dips_text:\n",
    "\n",
    "    # copying the files to the\n",
    "    # destination directory\n",
    "    shutil.copy2(os.path.join(src,fname), trg)"
   ]
  },
  {
   "cell_type": "markdown",
   "id": "ed243242-352c-4b11-92f1-597e78b8ae22",
   "metadata": {},
   "source": [
    "#### replacing file contents with template"
   ]
  },
  {
   "cell_type": "code",
   "execution_count": 189,
   "id": "273b5f9b-3257-4718-8aba-378dca905ab3",
   "metadata": {},
   "outputs": [],
   "source": [
    "from shutil import copyfile\n",
    "\n",
    "source = '/home/rod/Documents/DataScience/my_projects/nav/tsdip/code_template.py'\n",
    "#os.chdir('../')\n",
    "for fname in new_dips_text:\n",
    "    copyfile(source,f'/home/rod/Documents/DataScience/my_projects/nav/tsdip/pages/{fname}')"
   ]
  },
  {
   "cell_type": "markdown",
   "id": "407e6900-c15f-4281-89d4-6443e414e051",
   "metadata": {},
   "source": [
    "#### adding file name as target"
   ]
  },
  {
   "cell_type": "code",
   "execution_count": 190,
   "id": "8c1f420b-09f0-4b45-852a-50c0d7d50009",
   "metadata": {},
   "outputs": [],
   "source": [
    "#files=os.listdir(trg)\n",
    "\n",
    "os.chdir(trg)\n",
    "\n",
    "for i in new_dips_text:\n",
    "\n",
    "    # creating a variable and storing the text\n",
    "    # that we want to search\n",
    "    search_text = \"target-name\"\n",
    "\n",
    "    # creating a variable and storing the text\n",
    "    # that we want to add\n",
    "    replace_text = i\n",
    "\n",
    "    # Opening our text file in read only\n",
    "    # mode using the open() function\n",
    "    with open(i, 'r') as file:\n",
    "\n",
    "        # Reading the content of the file\n",
    "        # using the read() function and storing\n",
    "        # them in a new variable\n",
    "        data = file.read()\n",
    "\n",
    "        # Searching and replacing the text\n",
    "        # using the replace() function\n",
    "        data = data.replace(search_text, replace_text)\n",
    "\n",
    "    # Opening our text file in write only\n",
    "    # mode to write the replaced content\n",
    "    with open(i, 'w') as file:\n",
    "\n",
    "        # Writing the replaced data in our\n",
    "        # text file\n",
    "        file.write(data)"
   ]
  },
  {
   "cell_type": "markdown",
   "id": "6e8e6cbd-af57-416c-b087-6ac09a2ada58",
   "metadata": {},
   "source": [
    "#### change the file name"
   ]
  },
  {
   "cell_type": "code",
   "execution_count": 191,
   "id": "db29b38f-d6d7-4da0-af86-44fe30903db5",
   "metadata": {},
   "outputs": [],
   "source": [
    "from pathlib import Path\n",
    "\n",
    "path = Path(trg)\n",
    "\n",
    "for f in path.iterdir():\n",
    "    if f.is_file() and f.suffix in ['.txt']:\n",
    "        f.rename(f.with_suffix('.py'))"
   ]
  },
  {
   "cell_type": "code",
   "execution_count": null,
   "id": "0aa10659-4925-4802-9efd-eae83a2cde81",
   "metadata": {},
   "outputs": [],
   "source": []
  },
  {
   "cell_type": "code",
   "execution_count": null,
   "id": "076feb51-8fb2-44db-8e28-6e63562bb8bd",
   "metadata": {},
   "outputs": [],
   "source": []
  },
  {
   "cell_type": "code",
   "execution_count": null,
   "id": "f4a9abf1-a5fa-408f-8b4c-45b6ab3e6a6a",
   "metadata": {},
   "outputs": [],
   "source": []
  }
 ],
 "metadata": {
  "kernelspec": {
   "display_name": "Python 3 (ipykernel)",
   "language": "python",
   "name": "python3"
  },
  "language_info": {
   "codemirror_mode": {
    "name": "ipython",
    "version": 3
   },
   "file_extension": ".py",
   "mimetype": "text/x-python",
   "name": "python",
   "nbconvert_exporter": "python",
   "pygments_lexer": "ipython3",
   "version": "3.9.13"
  }
 },
 "nbformat": 4,
 "nbformat_minor": 5
}
