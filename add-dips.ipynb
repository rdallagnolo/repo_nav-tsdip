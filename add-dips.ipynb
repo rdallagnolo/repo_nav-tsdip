{
 "cells": [
  {
   "cell_type": "markdown",
   "id": "82b73c39-a55b-48d5-9512-b89fd569120d",
   "metadata": {},
   "source": [
    "#### copy tsdip data files to page folder"
   ]
  },
  {
   "cell_type": "code",
   "execution_count": 76,
   "id": "c7af3a95-1f23-47b3-9dbe-2487a2e2a916",
   "metadata": {},
   "outputs": [],
   "source": [
    "from pathlib import Path\n",
    "import shutil\n",
    "import os\n",
    "\n",
    "# defining source and destination\n",
    "# paths\n",
    "src = '/home/rod/Documents/DataScience/my_projects/nav/tsdip/data/'\n",
    "trg = '/home/rod/Documents/DataScience/my_projects/nav/tsdip/pages/'\n",
    "\n",
    "files=os.listdir(src)                           # listing all files in the src directory\n",
    "\n",
    "# iterating over all the files in\n",
    "# the source directory\n",
    "for fname in files:\n",
    "\n",
    "    # copying the files to the\n",
    "    # destination directory\n",
    "    shutil.copy2(os.path.join(src,fname), trg)"
   ]
  },
  {
   "cell_type": "code",
   "execution_count": null,
   "id": "b134d23f-3da2-43f7-ac25-45a04a987db0",
   "metadata": {},
   "outputs": [],
   "source": []
  },
  {
   "cell_type": "markdown",
   "id": "ed243242-352c-4b11-92f1-597e78b8ae22",
   "metadata": {},
   "source": [
    "#### replacing file contents with template"
   ]
  },
  {
   "cell_type": "code",
   "execution_count": 77,
   "id": "273b5f9b-3257-4718-8aba-378dca905ab3",
   "metadata": {},
   "outputs": [],
   "source": [
    "from shutil import copyfile\n",
    "\n",
    "source = '/home/rod/Documents/DataScience/my_projects/nav/tsdip/code_template.py'\n",
    "#os.chdir('../')\n",
    "for fname in files:\n",
    "    copyfile(source,f'/home/rod/Documents/DataScience/my_projects/nav/tsdip/pages/{fname}')"
   ]
  },
  {
   "cell_type": "code",
   "execution_count": 78,
   "id": "8c1f420b-09f0-4b45-852a-50c0d7d50009",
   "metadata": {},
   "outputs": [],
   "source": [
    "files=os.listdir(trg)\n",
    "\n",
    "os.chdir(trg)\n",
    "\n",
    "for i in files:\n",
    "\n",
    "    # creating a variable and storing the text\n",
    "    # that we want to search\n",
    "    search_text = \"target-name\"\n",
    "\n",
    "    # creating a variable and storing the text\n",
    "    # that we want to add\n",
    "    replace_text = i\n",
    "\n",
    "    # Opening our text file in read only\n",
    "    # mode using the open() function\n",
    "    with open(i, 'r') as file:\n",
    "\n",
    "        # Reading the content of the file\n",
    "        # using the read() function and storing\n",
    "        # them in a new variable\n",
    "        data = file.read()\n",
    "\n",
    "        # Searching and replacing the text\n",
    "        # using the replace() function\n",
    "        data = data.replace(search_text, replace_text)\n",
    "\n",
    "    # Opening our text file in write only\n",
    "    # mode to write the replaced content\n",
    "    with open(i, 'w') as file:\n",
    "\n",
    "        # Writing the replaced data in our\n",
    "        # text file\n",
    "        file.write(data)\n",
    "\n",
    "    # Printing Text replaced\n",
    "    #print(\"Text replaced\")"
   ]
  },
  {
   "cell_type": "code",
   "execution_count": 68,
   "id": "431e8e24-f29c-4688-a462-b1a778412957",
   "metadata": {},
   "outputs": [
    {
     "data": {
      "text/plain": [
       "'/home/rod/Documents/DataScience/my_projects/nav/tsdip/data'"
      ]
     },
     "execution_count": 68,
     "metadata": {},
     "output_type": "execute_result"
    }
   ],
   "source": [
    "pwd"
   ]
  },
  {
   "cell_type": "markdown",
   "id": "6e8e6cbd-af57-416c-b087-6ac09a2ada58",
   "metadata": {},
   "source": [
    "#### change the file name"
   ]
  },
  {
   "cell_type": "code",
   "execution_count": 79,
   "id": "db29b38f-d6d7-4da0-af86-44fe30903db5",
   "metadata": {},
   "outputs": [],
   "source": [
    "from pathlib import Path\n",
    "\n",
    "path = Path(trg)\n",
    "\n",
    "for f in path.iterdir():\n",
    "    if f.is_file() and f.suffix in ['.txt']:\n",
    "        f.rename(f.with_suffix('.py'))"
   ]
  },
  {
   "cell_type": "code",
   "execution_count": null,
   "id": "0aa10659-4925-4802-9efd-eae83a2cde81",
   "metadata": {},
   "outputs": [],
   "source": []
  },
  {
   "cell_type": "code",
   "execution_count": null,
   "id": "076feb51-8fb2-44db-8e28-6e63562bb8bd",
   "metadata": {},
   "outputs": [],
   "source": []
  },
  {
   "cell_type": "code",
   "execution_count": null,
   "id": "f4a9abf1-a5fa-408f-8b4c-45b6ab3e6a6a",
   "metadata": {},
   "outputs": [],
   "source": []
  }
 ],
 "metadata": {
  "kernelspec": {
   "display_name": "Python 3 (ipykernel)",
   "language": "python",
   "name": "python3"
  },
  "language_info": {
   "codemirror_mode": {
    "name": "ipython",
    "version": 3
   },
   "file_extension": ".py",
   "mimetype": "text/x-python",
   "name": "python",
   "nbconvert_exporter": "python",
   "pygments_lexer": "ipython3",
   "version": "3.9.13"
  }
 },
 "nbformat": 4,
 "nbformat_minor": 5
}
